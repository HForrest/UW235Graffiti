{
 "cells": [
  {
   "cell_type": "markdown",
   "metadata": {
    "id": "bLUOAZeB68sF"
   },
   "source": [
    "# Topic Report\n"
   ]
  },
  {
   "cell_type": "markdown",
   "metadata": {
    "id": "vhSQ3Ch7r-e0"
   },
   "source": [
    "## Milestone 1"
   ]
  },
  {
   "cell_type": "markdown",
   "metadata": {
    "id": "YgWPz-TJOB_w"
   },
   "source": [
    "\n",
    "### Basic Information:  \n",
    "\n"
   ]
  },
  {
   "cell_type": "markdown",
   "metadata": {
    "id": "miBNGp_jrZa_"
   },
   "source": [
    "Forrest Hsu\n",
    "\n",
    "Novemeber 12th, 2020\n",
    "\n",
    "Week 7 Data\n"
   ]
  },
  {
   "cell_type": "markdown",
   "metadata": {
    "id": "t6ZR1NPLoLoT"
   },
   "source": [
    "### Questions:"
   ]
  },
  {
   "cell_type": "markdown",
   "metadata": {
    "id": "o4uqXadwriW5"
   },
   "source": [
    "Does the income of an area effect graffiti frequency?\n",
    "\n",
    "Does the income of an area effect graffiti removal?\n",
    "\n",
    "These questions are important because they give insight into the socio-economic factors on graffiti writers.\n",
    "\n",
    "I'd bucket different census blocks by salary using the canvas data, then calculate frequency from the graffitos to make a histogram."
   ]
  },
  {
   "cell_type": "markdown",
   "metadata": {
    "id": "gkSZzlcmoV5Q"
   },
   "source": [
    "## Milestone 2"
   ]
  },
  {
   "cell_type": "markdown",
   "metadata": {
    "id": "NtHHbv31rlx2"
   },
   "source": [
    "### Set up"
   ]
  },
  {
   "cell_type": "code",
   "execution_count": 1,
   "metadata": {
    "id": "zsMoryqQs2Na"
   },
   "outputs": [],
   "source": [
    "import pandas as pd #gives me a bunch of tools to create, modify and otherwise interact with dataframes and the database\n",
    "import numpy as np #gives more math functions\n",
    "from pathlib import Path #Tells the notebook where the file is\n",
    "import requests #Census API integration\n",
    "import json #API pull reader\n",
    "from tqdm import tqdm #Progress bar\n",
    "#plots\n",
    "import seaborn as sns\n",
    "import matplotlib.pyplot as plt"
   ]
  },
  {
   "cell_type": "markdown",
   "metadata": {
    "id": "Y4J3rmWEPilv"
   },
   "source": [
    "### Data pre-processing\n"
   ]
  },
  {
   "cell_type": "code",
   "execution_count": 2,
   "metadata": {
    "id": "Mp2KYRdpqQUY"
   },
   "outputs": [],
   "source": [
    "#Downloads all data\n",
    "canvas = pd.read_csv('canvas.csv') #Sets up canvas dataframe\n",
    "graffito = pd.read_csv('graffito.csv') #sets up graffito dataframe\n",
    "acs = pd.read_csv('ACS_KingCounty.csv') #Income data in king county from the 2018 5 year ACS"
   ]
  },
  {
   "cell_type": "code",
   "execution_count": 3,
   "metadata": {
    "id": "_4HdFupJq98D"
   },
   "outputs": [],
   "source": [
    "#Sets up smaller child frames to work with\n",
    "canvas_location = canvas.loc[canvas.lat_coords.notnull() & canvas.long_coords.notnull(),['id','lat_coords','long_coords','surveillance','removal']]\n",
    "graffiti_location = graffito[['id','canvas_id','message']] #Shows canvas ID, Graffito ID, and message"
   ]
  },
  {
   "cell_type": "code",
   "execution_count": 4,
   "metadata": {
    "id": "719QAauoXfCf"
   },
   "outputs": [],
   "source": [
    "def get_census_results(latitude,longitude,id):\n",
    "  '''\n",
    "  Api scraper that gets census block group GEOID and Land Area in acres\n",
    "  '''\n",
    "  #API gateway\n",
    "  census = 'https://tigerweb.geo.census.gov/arcgis/rest/services/Census2010/Tracts_Blocks/MapServer/1/'#Directing to Census Block Groups map layer\n",
    "  query = 'query?where=1%3D1&outFields=*&geometry={}%2C%20{}&geometryType=esriGeometryPoint&inSR=4326&spatialRel=esriSpatialRelWithin&returnGeometry=false&outSR=4326&f=json'.format(longitude, latitude) #Query and variable lat long\n",
    "  key = '&key=dc3295a3190c68346e9fc0c472dd9af071d3547b'#My personal census key. Sign up here(https://api.census.gov/data/key_signup.html)\n",
    "  geocode_url = census+query+key\n",
    "  #Accesses API\n",
    "  api_pull = requests.get(geocode_url)\n",
    "  #Makes sure the request was successful\n",
    "  json_data = json.loads(api_pull.content) #Loads JSON file from the Census\n",
    "  info = json_data['features'][0]['attributes'] #navigates to data in the JSON\n",
    "  GEOID = info['GEOID']#takes the GEOID from the JSON\n",
    "  AREALAND = info['AREALAND']#takes the land area in acres from JSON\n",
    "  output = {'GEOID': GEOID, 'AREALAND': AREALAND, 'id':id} #Pushes data into dict so we can append the list in the loop, including canvas ID\n",
    "  return output #Makes the info available outside of the function, ends function"
   ]
  },
  {
   "cell_type": "code",
   "execution_count": 5,
   "metadata": {
    "colab": {
     "base_uri": "https://localhost:8080/"
    },
    "id": "alagRaB6VZod",
    "outputId": "7efcbe2a-5c67-4a1d-d182-895ed42f45e6"
   },
   "outputs": [
    {
     "name": "stderr",
     "output_type": "stream",
     "text": [
      "100%|██████████| 1193/1193 [08:56<00:00,  2.23it/s]"
     ]
    },
    {
     "name": "stdout",
     "output_type": "stream",
     "text": [
      "Done!\n"
     ]
    },
    {
     "name": "stderr",
     "output_type": "stream",
     "text": [
      "\n"
     ]
    }
   ],
   "source": [
    "#Loop that gathers GEOID and Acreage of the blockgroups the lat-long coord is within\n",
    "\n",
    "#Sets up a todo list of coords\n",
    "latitudes = canvas_location['lat_coords'].tolist()\n",
    "longitudes = canvas_location['long_coords'].tolist()\n",
    "ids = canvas_location['id'].tolist()\n",
    "\n",
    "api_output = pd.DataFrame([]) #Define a working dataframe, erases it if you need to rerun this loop\n",
    "\n",
    "for latitude, longitude, id in tqdm(zip(latitudes,longitudes,ids), total = len(canvas_location),position=0, leave=True):#Sets up a for loop, and makes a progress bar b/c this takes a few minutes and it's nice to know it's not frozen\n",
    "  geocoded = False#Labels everthing as to do\n",
    "  while geocoded is not True:\n",
    "     geocode_result = get_census_results(latitude, longitude, id) #Previously defined function\n",
    "     api_output = api_output.append(geocode_result, ignore_index=True) #Appends working dataframe\n",
    "     geocoded = True\n",
    "else:\n",
    "  print('Done!')"
   ]
  },
  {
   "cell_type": "code",
   "execution_count": 6,
   "metadata": {
    "id": "HXOhsfkfmjZY"
   },
   "outputs": [],
   "source": [
    "canvas_location = pd.merge(canvas_location,api_output, on = 'id') #Adds GEOID & Acreage to canvases\n",
    "canvas_location = canvas_location.rename(columns={'id': 'canvas_id'})#Makes canvas and graffiti share ID name\n",
    "db = pd.merge(canvas_location,graffiti_location, on = 'canvas_id') #Merges the location databases"
   ]
  },
  {
   "cell_type": "code",
   "execution_count": 7,
   "metadata": {
    "id": "y8QOQuPacl9o"
   },
   "outputs": [],
   "source": [
    "db['GEOID_Tract'] = db.GEOID.astype(str).str[:-1] #Turns the Blockgroup GEOID to Tract GEOID\n",
    "acs.rename(columns = {'Estimate!!Households!!Median income (dollars)' : 'median_income','Estimate!!Households!!Mean income (dollars)' : 'mean_income'}, inplace = True) #Renames ACS columns to make it easier to use\n",
    "acs['id'] = acs['id'].str.split('US', expand = True)[1] #Turns ACS ID into GEOID\n",
    "acs.rename(columns = {'id' : 'GEOID_Tract'},inplace = True)#Makes the names match up for a merge\n",
    "db = db.merge(acs, how = 'left', on = 'GEOID_Tract') #Merges Grafitti, Canvas, and Income into one dataframe\n"
   ]
  },
  {
   "cell_type": "code",
   "execution_count": 8,
   "metadata": {
    "id": "dv52vwattiDC"
   },
   "outputs": [
    {
     "data": {
      "text/plain": [
       "0        30895\n",
       "1        30895\n",
       "2        30895\n",
       "3        30895\n",
       "4        92972\n",
       "         ...  \n",
       "2248    146044\n",
       "2249    146044\n",
       "2250    146044\n",
       "2251    146044\n",
       "2252    146044\n",
       "Name: mean_income, Length: 2223, dtype: int32"
      ]
     },
     "execution_count": 8,
     "metadata": {},
     "output_type": "execute_result"
    }
   ],
   "source": [
    "#drop tracts w/o incomes\n",
    "db.dropna(subset =['median_income','mean_income'], inplace = True)\n",
    "#Changes income object type to int to work with histograms\n",
    "db['median_income'].astype(str).astype(float).astype(int)\n",
    "db['mean_income'].astype(str).astype(float).astype(int)"
   ]
  },
  {
   "cell_type": "markdown",
   "metadata": {
    "id": "CzDHQbHDoZxT"
   },
   "source": [
    "## Milestone 3"
   ]
  },
  {
   "cell_type": "markdown",
   "metadata": {
    "id": "2YauDWKamugk"
   },
   "source": [
    "### Analysis/Modeling\n",
    "\n",
    "\n",
    " "
   ]
  },
  {
   "cell_type": "markdown",
   "metadata": {
    "id": "MZfQXDXXtIy1"
   },
   "source": [
    "###Count vs income\n",
    "The data analysis is rather easy, with a simple histogram plot of income giving me a plot of the number of graffiti found in areas with that mean/median income. To make this better, I should divide the count by the total area of the tracts.\n",
    "\n",
    "I would expect that as income increases, graffiti would decrease exponentially.  \n",
    "\n",
    "###Graffiti Removal vs income (started after milestone 3 was submitted)\n",
    "I would assume that removal increases with income. I need a bucketed barchart that shows the percentage of canvases with removal vs the percentage without removal that shows the percentage of canvases with removal vs area income."
   ]
  },
  {
   "cell_type": "markdown",
   "metadata": {
    "id": "ri-r90MVmn6H"
   },
   "source": [
    "### Results"
   ]
  },
  {
   "cell_type": "markdown",
   "metadata": {
    "id": "f5XwV59kK1GG"
   },
   "source": [
    "##**Income vs. graffiti count**"
   ]
  },
  {
   "cell_type": "markdown",
   "metadata": {
    "id": "YBgz2zJ1wzA_"
   },
   "source": [
    "While my hypothsis holds up under median income levels, the mean income shows an increase to 75k and then a decrease afterwards. Perhaps income disparity is the cause of this. Plotting the mean/median could give a sense of where the skew of the distribution of income in an area is, and with this info I'd hypothesis that area with a large mean/median income ratio may have higher rates of graffiti than areas with small or negative mean/median income ratios."
   ]
  },
  {
   "cell_type": "code",
   "execution_count": 9,
   "metadata": {
    "id": "RUt9V678sZ7u"
   },
   "outputs": [
    {
     "data": {
      "text/plain": [
       "<AxesSubplot:title={'center':'Graffiti Count per Household Income Level'}, ylabel='Frequency'>"
      ]
     },
     "execution_count": 9,
     "metadata": {},
     "output_type": "execute_result"
    },
    {
     "data": {
      "image/png": "[encoded data removed]",
      "text/plain": [
       "<Figure size 432x288 with 1 Axes>"
      ]
     },
     "metadata": {
      "needs_background": "light"
     },
     "output_type": "display_data"
    }
   ],
   "source": [
    "db[['median_income', 'mean_income']].plot(kind = 'hist', alpha = 0.75, title='Graffiti Count per Household Income Level')"
   ]
  },
  {
   "cell_type": "markdown",
   "metadata": {
    "id": "0xAxnFseynFr"
   },
   "source": [
    "There's an upwards trend as the mean/median ratio increases, though there's a massive amount of data at 1.25ish. "
   ]
  },
  {
   "cell_type": "code",
   "execution_count": 10,
   "metadata": {
    "id": "jeoYCpYnx1nP"
   },
   "outputs": [],
   "source": [
    "db['ratio'] = db['mean_income']/db['median_income'] "
   ]
  },
  {
   "cell_type": "code",
   "execution_count": 11,
   "metadata": {
    "id": "_K6qHR04x915"
   },
   "outputs": [
    {
     "data": {
      "text/plain": [
       "<AxesSubplot:title={'center':'graffiti count and median : mean income ratio'}, ylabel='Frequency'>"
      ]
     },
     "execution_count": 11,
     "metadata": {},
     "output_type": "execute_result"
    },
    {
     "data": {
      "image/png": "[encoded data removed]",
      "text/plain": [
       "<Figure size 432x288 with 1 Axes>"
      ]
     },
     "metadata": {
      "needs_background": "light"
     },
     "output_type": "display_data"
    }
   ],
   "source": [
    "db['ratio'].plot(kind = 'hist', title = 'graffiti count and median : mean income ratio')"
   ]
  },
  {
   "cell_type": "markdown",
   "metadata": {
    "id": "edmNbT8TDmP-"
   },
   "source": [
    "##**Income vs Graffiti Density**\n",
    "In an aim to reduce the effect of large tracts with large numbers of graffitos, I've charted the density over income. The linear regressions show that graffiti density decreases as mean and median income increases, and graffiti density increases as income disparity (as represented by mean/median income ratio) increases.\n"
   ]
  },
  {
   "cell_type": "code",
   "execution_count": 12,
   "metadata": {
    "id": "A0rJ9rncmawj"
   },
   "outputs": [
    {
     "data": {
      "image/png": "[encoded data removed]",
      "text/plain": [
       "<Figure size 432x288 with 1 Axes>"
      ]
     },
     "metadata": {
      "needs_background": "light"
     },
     "output_type": "display_data"
    }
   ],
   "source": [
    "#Income Level\n",
    "\n",
    "med_df = db[['AREALAND','median_income']].value_counts().reset_index().rename(columns={0:'graffiti_count'}).sort_values('median_income')#Makes a database with graffit counts associated with median income and land area\n",
    "med_df = med_df.groupby('median_income')[['AREALAND','graffiti_count']].sum().reset_index() #Sums up area and graffiti count per median income \n",
    "med_df['density'] = med_df.graffiti_count / med_df.AREALAND #Creates a density value of count/acre grouped in each income value\n",
    "\n",
    "mean_df = db[['AREALAND','mean_income']].value_counts().reset_index().rename(columns={0:'graffiti_count'}).sort_values('mean_income')#Makes a database with graffit counts associated with mean income and land area\n",
    "mean_df = mean_df.groupby('mean_income')[['AREALAND','graffiti_count']].sum().reset_index() #Sums up area and graffiti count per mean income \n",
    "mean_df['density'] = mean_df.graffiti_count / mean_df.AREALAND #Creates a density value of count/acre grouped in each income value\n",
    "\n",
    "#Lines of best fit\n",
    "a1, b1 = np.polyfit(med_df['median_income'], med_df['density'], 1)\n",
    "a2, b2 = np.polyfit(mean_df['mean_income'], mean_df['density'], 1)\n",
    "\n",
    "#plots\n",
    "med_scatter = plt.plot(med_df['median_income'], med_df['density'], 'ro', label = 'Median Income')\n",
    "med_line = plt.plot(med_df['median_income'], a1*med_df['median_income'] + b1, 'r')\n",
    "mean_scatter = plt.plot(mean_df['mean_income'], mean_df['density'], 'bo', label = 'Mean Income')\n",
    "mean_line = plt.plot(mean_df['mean_income'], a2*mean_df['mean_income'] + b2, 'b')\n",
    "\n",
    "#labels\n",
    "plt.ylabel('graffiti per acre')\n",
    "plt.xlabel('Income')\n",
    "plt.title('Graffiti Density and Income')\n",
    "plt.legend()\n",
    "\n",
    "plt.show()"
   ]
  },
  {
   "cell_type": "code",
   "execution_count": 13,
   "metadata": {
    "id": "MG9SL4O6KKYH"
   },
   "outputs": [
    {
     "data": {
      "image/png": "[encoded data removed]",
      "text/plain": [
       "<Figure size 432x288 with 1 Axes>"
      ]
     },
     "metadata": {
      "needs_background": "light"
     },
     "output_type": "display_data"
    }
   ],
   "source": [
    "#Income Disparity\n",
    "ratio_df = db[['AREALAND','ratio']].value_counts().reset_index().rename(columns={0:'graffiti_count'}).sort_values('ratio')#Makes a database with graffit counts associated with income ratio and land area\n",
    "ratio_df = ratio_df.groupby('ratio')[['AREALAND','graffiti_count']].sum().reset_index() #Sums up area and graffiti count per income ratio \n",
    "ratio_df['density'] = ratio_df.graffiti_count / ratio_df.AREALAND #Creates a density value of count/acre grouped in each income ratio value\n",
    "\n",
    "#Line of Best fit\n",
    "a3, b3 = np.polyfit(ratio_df['ratio'], ratio_df['density'], 1)\n",
    "\n",
    "#plots\n",
    "plt.plot(ratio_df['ratio'], ratio_df['density'], 'go')\n",
    "plt.plot(ratio_df['ratio'], a3*ratio_df['ratio'] + b3, 'g')\n",
    "\n",
    "#labels\n",
    "plt.ylabel('Graffiti Per Acre')\n",
    "plt.xlabel('Mean/Median Income Ratio')\n",
    "plt.title('Graffiti Density and Income Inequality')\n",
    "\n",
    "plt.show()"
   ]
  },
  {
   "cell_type": "markdown",
   "metadata": {
    "id": "BYRkDz5jLWf6"
   },
   "source": [
    "###Removal\n"
   ]
  },
  {
   "cell_type": "markdown",
   "metadata": {
    "id": "A7JMLFjhq3hI"
   },
   "source": [
    "I hypothesised that increasing income would show an increase in graffiti removal. On the contrary, there is no graffiti removal in areas with incomes over $124,281. This is likely beacuse there is very little graffiti in these areas.\n",
    "\n",
    "The first set of graphs are histograms showing the various states of graffiti removal by income level. The second is the % removal. "
   ]
  },
  {
   "cell_type": "code",
   "execution_count": 14,
   "metadata": {
    "id": "TooTsLdKLY5l"
   },
   "outputs": [],
   "source": [
    "canvas_location['GEOID_Tract'] = canvas_location['GEOID'].astype(str).str[:-1] #Creates a tract GEOID\n",
    "removal = canvas_location.merge(acs, how = 'left', on = 'GEOID_Tract') #Canvas and ACS merge\n",
    "removal = removal[['GEOID_Tract','median_income','removal']] #Just the important bits\n",
    "rem_long = removal.melt(id_vars = 'median_income', value_vars = 'removal') #Long form for Seaborn"
   ]
  },
  {
   "cell_type": "code",
   "execution_count": 15,
   "metadata": {
    "id": "7gPkUiTWji0I"
   },
   "outputs": [
    {
     "data": {
      "image/png": "[encoded data removed]",
      "text/plain": [
       "<Figure size 1080x360 with 3 Axes>"
      ]
     },
     "metadata": {
      "needs_background": "light"
     },
     "output_type": "display_data"
    }
   ],
   "source": [
    "ax = sns.displot(data=rem_long, x='median_income', col='value')#.fig.suptitle('Graffiti Removal vs. Income')\n",
    "#I can't make the title work well"
   ]
  },
  {
   "cell_type": "code",
   "execution_count": 16,
   "metadata": {
    "id": "KZpNNigWfW42"
   },
   "outputs": [
    {
     "data": {
      "image/png": "[encoded data removed]",
      "text/plain": [
       "<Figure size 432x288 with 1 Axes>"
      ]
     },
     "metadata": {
      "needs_background": "light"
     },
     "output_type": "display_data"
    }
   ],
   "source": [
    "#Data preoprocessing for % removal by income\n",
    "rem_no = rem_long.loc[rem_long.value == 'N'].median_income \n",
    "rem_yes = rem_long.loc[rem_long.value == 'Y'].median_income\n",
    "\n",
    "#set up histogram bins\n",
    "cut_bins = np.linspace(rem_long.median_income.min(),rem_long.median_income.max(),21)\n",
    "\n",
    "#gets binned counts\n",
    "no_count = pd.cut(rem_no, bins = cut_bins).value_counts().sort_index().reset_index()\n",
    "yes_count = pd.cut(rem_yes, bins = cut_bins).value_counts().sort_index().reset_index()\n",
    "\n",
    "#renames counts to usable names \n",
    "no_count = no_count.rename(columns = {'median_income':'Ns'})\n",
    "yes_count = yes_count.rename(columns = {'median_income':'Ys'})\n",
    "\n",
    "#creates a graphing df b/c boar charts weren't working\n",
    "counts = pd.DataFrame([])\n",
    "counts['Percent Removal'] = yes_count.Ys/(no_count.Ns+yes_count.Ys)#calculates % removal\n",
    "#counts['Percent Removal'] = counts['Percent Removal'].fillna(0) #Fixes the divide by zero issue\n",
    "\n",
    "#PLOTS\n",
    "counts.plot(kind='bar')\n",
    "plt.title('Percent Removal by Income')\n",
    "plt.ylabel('Percent Removal')\n",
    "plt.xlabel(\"I'm Really Sorry I Can't Make This Properly Bucketed, But It's The Same As The Other Removal Charts\")\n",
    "\n",
    "plt.show()"
   ]
  },
  {
   "cell_type": "markdown",
   "metadata": {
    "id": "IfpHruBiorw6"
   },
   "source": [
    "## Final submission\n",
    "\n"
   ]
  },
  {
   "cell_type": "markdown",
   "metadata": {
    "id": "rRMLW5pyttxa"
   },
   "source": [
    "### Conclusions"
   ]
  },
  {
   "cell_type": "markdown",
   "metadata": {
    "id": "WkBzKdF5KDpu"
   },
   "source": [
    "I learned that graffiti count and density decrease as income increases, which agrees with the general concensus. Additionally, the marked increase in graffiti as the mean/median income ratio increased was an interesting obeservation that speaks to the difference that income inequality has on the proliferation of graffiti.\n",
    "\n",
    "My expectation that graffiti removal would increase with income as incorrect, but that clearly seems to be more closely corrolated with graffiti density than actualy removal. This is interesting becuase it shows that graffiti removal ordances disproportionately impact lower income arees which can least afford the expense of removing the significant graffiti denisity in their areas."
   ]
  }
 ],
 "metadata": {
  "colab": {
   "collapsed_sections": [],
   "name": "Copy of Topic Report Template.ipynb",
   "provenance": []
  },
  "kernelspec": {
   "display_name": "Python 3",
   "language": "python",
   "name": "python3"
  },
  "language_info": {
   "codemirror_mode": {
    "name": "ipython",
    "version": 3
   },
   "file_extension": ".py",
   "mimetype": "text/x-python",
   "name": "python",
   "nbconvert_exporter": "python",
   "pygments_lexer": "ipython3",
   "version": "3.8.3"
  }
 },
 "nbformat": 4,
 "nbformat_minor": 4
}
